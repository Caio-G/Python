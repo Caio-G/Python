{
 "cells": [
  {
   "cell_type": "code",
   "execution_count": 19,
   "id": "8cb62ac4",
   "metadata": {},
   "outputs": [],
   "source": [
    "import re\n",
    "import string"
   ]
  },
  {
   "cell_type": "code",
   "execution_count": 42,
   "id": "37bf3d63",
   "metadata": {},
   "outputs": [
    {
     "name": "stdout",
     "output_type": "stream",
     "text": [
      "@professoraigti Dizem por aí, mas não tenho certeza, que meu sorriso fica mais feliz quando te vejo, dizem também que meus olhos brilham, dizem também que é amor, mas isso sim é certeza. Dom Casmurro. @machadodeassis #domcasmurro #machadodeassis https://www.igti.com.br/\n",
      "Mas a saudade é isto mesmo; é o passar e repassar das memórias antigas. Dom Casmurro.\n",
      "E com uma letra bem pequena, lá estava escrito no seu epitáfio: Tentou ser, não conseguiu; tentou ter, não possuiu; tentou continuar, não prosseguiu; e nessa vida de expectativas frustradas tentou até amar… Pois bem, não conseguiu, e aqui está. Dom Casmurro.\n",
      "O que é o Stemming?\n",
      "A linguagem natural possui diversas formas para flexionar uma palavra para que ela caiba em uma frase. É claro que essas características são determinadas de acordo com a língua que você estará utilizando.    Pense por exemplo no verbo andar:   Andei – Ande – Andarei – Andamento, Andando – Andante…\n",
      "Exemplo: Fonte: https://www.computersciencemaster.com.br/como-reduzir-uma-palavra-ao-seu-radical-em-python-stemming/ #stemming\n",
      "O processo de stemização (do inglês, stemming) consiste em reduzir uma palavra ao seu radical. A palavra “meninas” se reduziria a “menin”, assim como “meninos” e “menininhos”. As palavras “gato”, “gata”, “gatos” e “gatas” reduziriam-se para “gat”. A lematização reduz a palavra ao seu lema, que é a forma no masculino e singular.\n",
      "No caso de verbos, o lema é o infinitivo. Por exemplo, as palavras “gato”, “gata”, “gatos” e “gatas” são todas formas do mesmo lema: “gato”. Igualmente, as palavras “tiver”, “tenho”, “tinha”, “tem” são formas do mesmo lema “ter”. A vantagem de aplicar a stemização ou lematização é clara: redução de vocabulário e abstração de significado.   Esses pré-processamentos são de cunho morfossintático, que atuam em cima de itens lexicais, ou seja, palavras.\n",
      "O que é lematização?\n",
      "A lematização é o processo, efetivamente, de deflexionar uma palavra para determinar o seu lema (as flexões chamam-se lexemas). Por exemplo, as palavras gato, gata, gatos, gatas são todas formas do mesmo lema: gato. Igualmente, as palavras tiver, tenho, tinha, tem são do mesmo lema ter. E bom, melhor e ótimo são lexemas do lema bom. \n",
      "Exemplo: #exemplolematização Fonte: https://www.computersciencemaster.com.br/como-reduzir-uma-palavra-para-sua-forma-basica-em-python-lemmatizacao/ #lemma\n",
      "Lematização versus Stemming\n",
      "As duas técnicas possuem o mesmo objetivo de inflexionar uma palavra, no entanto, os outputs de uma mesma palavra são diferentes. O stemming não se importa com a legibilidade da palavra gerada como output. Já a lematização resulta em uma palavra no infinitivo (geralmente – não obrigatóriamente).   \n",
      "  \n"
     ]
    }
   ],
   "source": [
    "texto = str(open('textoexemplo.txt','r', encoding='utf-8').read())\n",
    "print(texto)"
   ]
  },
  {
   "cell_type": "code",
   "execution_count": 43,
   "id": "de387625",
   "metadata": {},
   "outputs": [
    {
     "name": "stdout",
     "output_type": "stream",
     "text": [
      "@professoraigti Dizem por aí, mas não tenho certeza, que meu sorriso fica mais feliz quando te vejo, dizem também que meus olhos brilham, dizem também que é amor, mas isso sim é certeza. Dom Casmurro. @machadodeassis #domcasmurro #machadodeassis \n",
      "Mas a saudade é isto mesmo; é o passar e repassar das memórias antigas. Dom Casmurro.\n",
      "E com uma letra bem pequena, lá estava escrito no seu epitáfio: Tentou ser, não conseguiu; tentou ter, não possuiu; tentou continuar, não prosseguiu; e nessa vida de expectativas frustradas tentou até amar… Pois bem, não conseguiu, e aqui está. Dom Casmurro.\n",
      "O que é o Stemming?\n",
      "A linguagem natural possui diversas formas para flexionar uma palavra para que ela caiba em uma frase. É claro que essas características são determinadas de acordo com a língua que você estará utilizando.    Pense por exemplo no verbo andar:   Andei – Ande – Andarei – Andamento, Andando – Andante…\n",
      "Exemplo: Fonte:  #stemming\n",
      "O processo de stemização (do inglês, stemming) consiste em reduzir uma palavra ao seu radical. A palavra “meninas” se reduziria a “menin”, assim como “meninos” e “menininhos”. As palavras “gato”, “gata”, “gatos” e “gatas” reduziriam-se para “gat”. A lematização reduz a palavra ao seu lema, que é a forma no masculino e singular.\n",
      "No caso de verbos, o lema é o infinitivo. Por exemplo, as palavras “gato”, “gata”, “gatos” e “gatas” são todas formas do mesmo lema: “gato”. Igualmente, as palavras “tiver”, “tenho”, “tinha”, “tem” são formas do mesmo lema “ter”. A vantagem de aplicar a stemização ou lematização é clara: redução de vocabulário e abstração de significado.   Esses pré-processamentos são de cunho morfossintático, que atuam em cima de itens lexicais, ou seja, palavras.\n",
      "O que é lematização?\n",
      "A lematização é o processo, efetivamente, de deflexionar uma palavra para determinar o seu lema (as flexões chamam-se lexemas). Por exemplo, as palavras gato, gata, gatos, gatas são todas formas do mesmo lema: gato. Igualmente, as palavras tiver, tenho, tinha, tem são do mesmo lema ter. E bom, melhor e ótimo são lexemas do lema bom. \n",
      "Exemplo: #exemplolematização Fonte:  #lemma\n",
      "Lematização versus Stemming\n",
      "As duas técnicas possuem o mesmo objetivo de inflexionar uma palavra, no entanto, os outputs de uma mesma palavra são diferentes. O stemming não se importa com a legibilidade da palavra gerada como output. Já a lematização resulta em uma palavra no infinitivo (geralmente – não obrigatóriamente).   \n",
      "  \n"
     ]
    }
   ],
   "source": [
    "x = re.sub('https\\S+','',texto)\n",
    "print(x)"
   ]
  },
  {
   "cell_type": "code",
   "execution_count": 44,
   "id": "64f336a9",
   "metadata": {},
   "outputs": [
    {
     "name": "stdout",
     "output_type": "stream",
     "text": [
      "professoraigti Dizem por aí mas não tenho certeza que meu sorriso fica mais feliz quando te vejo dizem também que meus olhos brilham dizem também que é amor mas isso sim é certeza Dom Casmurro machadodeassis domcasmurro machadodeassis \n",
      "Mas a saudade é isto mesmo é o passar e repassar das memórias antigas Dom Casmurro\n",
      "E com uma letra bem pequena lá estava escrito no seu epitáfio Tentou ser não conseguiu tentou ter não possuiu tentou continuar não prosseguiu e nessa vida de expectativas frustradas tentou até amar Pois bem não conseguiu e aqui está Dom Casmurro\n",
      "O que é o Stemming\n",
      "A linguagem natural possui diversas formas para flexionar uma palavra para que ela caiba em uma frase É claro que essas características são determinadas de acordo com a língua que você estará utilizando    Pense por exemplo no verbo andar   Andei  Ande  Andarei  Andamento Andando  Andante\n",
      "Exemplo Fonte  stemming\n",
      "O processo de stemização do inglês stemming consiste em reduzir uma palavra ao seu radical A palavra meninas se reduziria a menin assim como meninos e menininhos As palavras gato gata gatos e gatas reduziriamse para gat A lematização reduz a palavra ao seu lema que é a forma no masculino e singular\n",
      "No caso de verbos o lema é o infinitivo Por exemplo as palavras gato gata gatos e gatas são todas formas do mesmo lema gato Igualmente as palavras tiver tenho tinha tem são formas do mesmo lema ter A vantagem de aplicar a stemização ou lematização é clara redução de vocabulário e abstração de significado   Esses préprocessamentos são de cunho morfossintático que atuam em cima de itens lexicais ou seja palavras\n",
      "O que é lematização\n",
      "A lematização é o processo efetivamente de deflexionar uma palavra para determinar o seu lema as flexões chamamse lexemas Por exemplo as palavras gato gata gatos gatas são todas formas do mesmo lema gato Igualmente as palavras tiver tenho tinha tem são do mesmo lema ter E bom melhor e ótimo são lexemas do lema bom \n",
      "Exemplo exemplolematização Fonte  lemma\n",
      "Lematização versus Stemming\n",
      "As duas técnicas possuem o mesmo objetivo de inflexionar uma palavra no entanto os outputs de uma mesma palavra são diferentes O stemming não se importa com a legibilidade da palavra gerada como output Já a lematização resulta em uma palavra no infinitivo geralmente  não obrigatóriamente   \n",
      "  \n"
     ]
    }
   ],
   "source": [
    "x = re.sub('[^\\w\\s]','',x)\n",
    "print(x)"
   ]
  },
  {
   "cell_type": "code",
   "execution_count": 45,
   "id": "b5fe4e7d",
   "metadata": {},
   "outputs": [
    {
     "name": "stdout",
     "output_type": "stream",
     "text": [
      "professoraigti dizem por aí mas não tenho certeza que meu sorriso fica mais feliz quando te vejo dizem também que meus olhos brilham dizem também que é amor mas isso sim é certeza dom casmurro machadodeassis domcasmurro machadodeassis \n",
      "mas a saudade é isto mesmo é o passar e repassar das memórias antigas dom casmurro\n",
      "e com uma letra bem pequena lá estava escrito no seu epitáfio tentou ser não conseguiu tentou ter não possuiu tentou continuar não prosseguiu e nessa vida de expectativas frustradas tentou até amar pois bem não conseguiu e aqui está dom casmurro\n",
      "o que é o stemming\n",
      "a linguagem natural possui diversas formas para flexionar uma palavra para que ela caiba em uma frase é claro que essas características são determinadas de acordo com a língua que você estará utilizando    pense por exemplo no verbo andar   andei  ande  andarei  andamento andando  andante\n",
      "exemplo fonte  stemming\n",
      "o processo de stemização do inglês stemming consiste em reduzir uma palavra ao seu radical a palavra meninas se reduziria a menin assim como meninos e menininhos as palavras gato gata gatos e gatas reduziriamse para gat a lematização reduz a palavra ao seu lema que é a forma no masculino e singular\n",
      "no caso de verbos o lema é o infinitivo por exemplo as palavras gato gata gatos e gatas são todas formas do mesmo lema gato igualmente as palavras tiver tenho tinha tem são formas do mesmo lema ter a vantagem de aplicar a stemização ou lematização é clara redução de vocabulário e abstração de significado   esses préprocessamentos são de cunho morfossintático que atuam em cima de itens lexicais ou seja palavras\n",
      "o que é lematização\n",
      "a lematização é o processo efetivamente de deflexionar uma palavra para determinar o seu lema as flexões chamamse lexemas por exemplo as palavras gato gata gatos gatas são todas formas do mesmo lema gato igualmente as palavras tiver tenho tinha tem são do mesmo lema ter e bom melhor e ótimo são lexemas do lema bom \n",
      "exemplo exemplolematização fonte  lemma\n",
      "lematização versus stemming\n",
      "as duas técnicas possuem o mesmo objetivo de inflexionar uma palavra no entanto os outputs de uma mesma palavra são diferentes o stemming não se importa com a legibilidade da palavra gerada como output já a lematização resulta em uma palavra no infinitivo geralmente  não obrigatóriamente   \n",
      "  \n"
     ]
    }
   ],
   "source": [
    "x = x.lower()\n",
    "print(x)"
   ]
  },
  {
   "cell_type": "code",
   "execution_count": 46,
   "id": "3c7d00b2",
   "metadata": {},
   "outputs": [
    {
     "data": {
      "text/plain": [
       "'professoraigti dizem por aí mas não tenho certeza que meu sorriso fica mais feliz quando te vejo dizem também que meus olhos brilham dizem também que é amor mas isso sim é certeza dom casmurro machadodeassis domcasmurro machadodeassis \\nmas a saudade é isto mesmo é o passar e repassar das memórias antigas dom casmurro\\ne com uma letra bem pequena lá estava escrito no seu epitáfio tentou ser não conseguiu tentou ter não possuiu tentou continuar não prosseguiu e nessa vida de expectativas frustradas tentou até amar pois bem não conseguiu e aqui está dom casmurro\\no que é o stemming\\na linguagem natural possui diversas formas para flexionar uma palavra para que ela caiba em uma frase é claro que essas características são determinadas de acordo com a língua que você estará utilizando    pense por exemplo no verbo andar   andei  ande  andarei  andamento andando  andante\\nexemplo fonte  stemming\\no processo de stemização do inglês stemming consiste em reduzir uma palavra ao seu radical a palavra meninas se reduziria a menin assim como meninos e menininhos as palavras gato gata gatos e gatas reduziriamse para gat a lematização reduz a palavra ao seu lema que é a forma no masculino e singular\\nno caso de verbos o lema é o infinitivo por exemplo as palavras gato gata gatos e gatas são todas formas do mesmo lema gato igualmente as palavras tiver tenho tinha tem são formas do mesmo lema ter a vantagem de aplicar a stemização ou lematização é clara redução de vocabulário e abstração de significado   esses préprocessamentos são de cunho morfossintático que atuam em cima de itens lexicais ou seja palavras\\no que é lematização\\na lematização é o processo efetivamente de deflexionar uma palavra para determinar o seu lema as flexões chamamse lexemas por exemplo as palavras gato gata gatos gatas são todas formas do mesmo lema gato igualmente as palavras tiver tenho tinha tem são do mesmo lema ter e bom melhor e ótimo são lexemas do lema bom \\nexemplo exemplolematização fonte  lemma\\nlematização versus stemming\\nas duas técnicas possuem o mesmo objetivo de inflexionar uma palavra no entanto os outputs de uma mesma palavra são diferentes o stemming não se importa com a legibilidade da palavra gerada como output já a lematização resulta em uma palavra no infinitivo geralmente  não obrigatóriamente   \\n  '"
      ]
     },
     "execution_count": 46,
     "metadata": {},
     "output_type": "execute_result"
    }
   ],
   "source": [
    "x"
   ]
  }
 ],
 "metadata": {
  "kernelspec": {
   "display_name": "Python 3",
   "language": "python",
   "name": "python3"
  },
  "language_info": {
   "codemirror_mode": {
    "name": "ipython",
    "version": 3
   },
   "file_extension": ".py",
   "mimetype": "text/x-python",
   "name": "python",
   "nbconvert_exporter": "python",
   "pygments_lexer": "ipython3",
   "version": "3.8.8"
  }
 },
 "nbformat": 4,
 "nbformat_minor": 5
}
